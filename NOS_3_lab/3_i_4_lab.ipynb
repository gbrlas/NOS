{
 "cells": [
  {
   "cell_type": "code",
   "execution_count": 1,
   "metadata": {
    "collapsed": true
   },
   "outputs": [],
   "source": [
    "import os\n",
    "import base64\n",
    "import hashlib\n",
    "from Crypto.Cipher import AES\n",
    "from Crypto.PublicKey import RSA\n",
    "from Crypto import Random\n",
    "from Crypto.Hash import MD5\n"
   ]
  },
  {
   "cell_type": "code",
   "execution_count": 2,
   "metadata": {
    "collapsed": true
   },
   "outputs": [],
   "source": [
    "# WRITING TO FILES\n",
    "def savePrivateKey(private, size):\n",
    "    with open(\"privateKey.txt\", \"w\") as f:\n",
    "        f.write(\"---BEGIN OS2 CRYPTO DATA---\\n\")\n",
    "        f.write(\"\\nDescription:\\n\")\n",
    "        f.write(\"\\tPrivate key\\n\\n\")\n",
    "        f.write(\"Method:\\n\")\n",
    "        f.write(\"\\tRSA\\n\\n\")\n",
    "        f.write(\"Key length:\\n\")\n",
    "        f.write(\"\\t0{0:x}\".format(size)+\"\\n\")\n",
    "        f.write(\"\\nPrivate key: \\n\")\n",
    "        f.write(str(private.exportKey())[2:-1])\n",
    "        f.write(\"\\n\")\n",
    "        f.write(\"\\n---END OS2 CRYPTO DATA---\")\n",
    "\n",
    "\n",
    "def savePublicKey(public, size):\n",
    "    with open(\"publicKey.txt\", \"w\") as f:\n",
    "        f.write(\"---BEGIN OS2 CRYPTO DATA---\\n\")\n",
    "        f.write(\"\\nDescription:\\n\")\n",
    "        f.write(\"\\tPublic key\\n\\n\")\n",
    "        f.write(\"Method:\\n\")\n",
    "        f.write(\"\\tRSA\\n\\n\")\n",
    "        f.write(\"Key length:\\n\")\n",
    "        f.write(\"\\t0{0:x}\".format(size)+\"\\n\")\n",
    "        f.write(\"\\nPublic key: \\n\")\n",
    "        f.write(str(public.exportKey())[2:-1])\n",
    "        f.write(\"\\n\")\n",
    "        f.write(\"\\n---END OS2 CRYPTO DATA---\")\n",
    "\n",
    "\n",
    "def saveAESKey(key):\n",
    "    with open(\"aesKey.txt\", \"w\") as f:\n",
    "        f.write(\"---BEGIN OS2 CRYPTO DATA---\\n\")\n",
    "        f.write(\"\\nDescription:\\n\")\n",
    "        f.write(\"\\tSecret key\\n\\n\")\n",
    "        f.write(\"Method:\\n\")\n",
    "        f.write(\"\\tAES\\n\")\n",
    "        f.write(\"\\nSecret key: \\n\")\n",
    "        f.write(str(key)[2:-1])\n",
    "        f.write(\"\\n\")\n",
    "        f.write(\"\\n---END OS2 CRYPTO DATA---\")\n",
    "\n",
    "def printEnvelope(data, encryptedKey, aes_size, rsa_size):\n",
    "    with open(\"envelope.txt\", \"w\") as f:\n",
    "        f.write(\"---BEGIN OS2 CRYPTO DATA---\\n\")\n",
    "        f.write(\"\\nDescription:\\n\")\n",
    "        f.write(\"\\tEnvelope\\n\\n\")\n",
    "        f.write(\"Method:\\n\")\n",
    "        f.write(\"\\tAES\\n\")\n",
    "        f.write(\"\\tRSA\\n\")\n",
    "        f.write(\"Key length:\\n\")\n",
    "        f.write(\"\\t0{0:x}\".format(aes_size) + \"\\n\")\n",
    "        f.write(\"\\t0{0:x}\".format(rsa_size) + \"\\n\")\n",
    "        f.write(\"\\nEnvelope data: \\n\")\n",
    "        f.write(str(data))\n",
    "        f.write(\"\\n\")\n",
    "        f.write(\"\\nEnvelope crypt key: \\n\")\n",
    "        f.write(str(encryptedKey)[2:-2])\n",
    "        f.write(\"\\n\")\n",
    "        f.write(\"\\n---END OS2 CRYPTO DATA---\")\n",
    "\n",
    "\n",
    "def printSignature(digest, sha_size, rsa_size):\n",
    "    with open(\"signature.txt\", \"w\") as f:\n",
    "        f.write(\"---BEGIN OS2 CRYPTO DATA---\\n\")\n",
    "        f.write(\"\\nDescription:\\n\")\n",
    "        f.write(\"\\tSignature\\n\\n\")\n",
    "        f.write(\"Method:\\n\")\n",
    "        f.write(\"\\tSHA-1\\n\")\n",
    "        f.write(\"\\tRSA\\n\")\n",
    "        f.write(\"\\nKey length:\\n\")\n",
    "        f.write(\"\\t0{0:x}\".format(sha_size) + \"\\n\")\n",
    "        f.write(\"\\t0{0:x}\".format(rsa_size) + \"\\n\")\n",
    "        f.write(\"\\nSignature: \\n\")\n",
    "        f.write(str(digest))\n",
    "        f.write(\"\\n\")\n",
    "        f.write(\"\\n---END OS2 CRYPTO DATA---\")"
   ]
  },
  {
   "cell_type": "code",
   "execution_count": 3,
   "metadata": {
    "collapsed": false
   },
   "outputs": [
    {
     "name": "stdout",
     "output_type": "stream",
     "text": [
      "Secret key: \\xc9]J\\xd5\\xa0\\xe3o\\xb3\\x8aI\\xf3<\\xbeD\\xfe4\n",
      "Encrypted string: l/uQWTgcYYcOXZI=\n",
      "Decrypted string: test string\n"
     ]
    }
   ],
   "source": [
    "# AES\n",
    "EncodeAES = lambda c, s: base64.b64encode(c.encrypt(s))\n",
    "DecodeAES = lambda c, e: c.decrypt(base64.b64decode(e))\n",
    "\n",
    "# generate a random secret key and initialization vector\n",
    "secret = os.urandom(16)\n",
    "IV = os.urandom(16)\n",
    "print (\"Secret key:\", str(secret)[2:-1])\n",
    "saveAESKey(secret)\n",
    "\n",
    "cipher = AES.new(secret, AES.MODE_CFB, IV)\n",
    "\n",
    "encoded = EncodeAES(cipher, 'test string')\n",
    "print ('Encrypted string:', str(encoded)[2:-1])\n",
    "\n",
    "cipher = AES.new(secret, AES.MODE_CFB, IV)\n",
    "\n",
    "decoded = DecodeAES(cipher, encoded)\n",
    "print ('Decrypted string:', str(decoded)[2:-1])"
   ]
  },
  {
   "cell_type": "code",
   "execution_count": 4,
   "metadata": {
    "collapsed": false
   },
   "outputs": [
    {
     "name": "stdout",
     "output_type": "stream",
     "text": [
      "AES key: \\xc9]J\\xd5\\xa0\\xe3o\\xb3\\x8aI\\xf3<\\xbeD\\xfe4 \n",
      "\n",
      "Encrypted AES key:  \\xd4\\x02`\\xf9\\xfe\\x95M\\xf6\\x86\\xd1mU\\xa4\\xceV}\\xa0\\x9f>\\xd6\\xc9\\xb1\\x9f\\xa7 \\x89a\\rL\\x8d\\x8b\\xcc\\xaaV\\x10aWt_!\\xf1f\\x0b\\x06\\x97\\xa2\\xda\\xdf\\xbd`\\\\\\x1e\\xbbY_\\xf1a\\xc9\\xe3\\x94?\\x17}\\xab\\xfcp\\xb7\\xba\\xde\\xaa\\xa7!\\x9a\\xdd\\xec-\\x13D\\xc6S\\xde\\x82Q\\x8f\\x9f;\\xb2\\x03\\xa0\\xe0F@\\x02SG\\xb9,&\\xbc\\xec2q{\\xbea\\x82m\\xa4t\\xe7xho}\\x7f$_\\xb5\\xbeW\\xcf\\xbc\\x08\\xc7\\xcb\\xab\\x1e\\xde \n",
      "\n",
      "Decrypted AES key: \\xc9]J\\xd5\\xa0\\xe3o\\xb3\\x8aI\\xf3<\\xbeD\\xfe4 \n",
      "\n"
     ]
    }
   ],
   "source": [
    "# RSA\n",
    "\n",
    "KEY_LENGTH = 1024\n",
    "random_gen = Random.new().read\n",
    " \n",
    "keypair = RSA.generate(KEY_LENGTH, random_gen)\n",
    " \n",
    "publicKey = keypair.publickey()\n",
    "savePublicKey(publicKey, 1024)\n",
    "savePrivateKey(keypair, 1024)\n",
    " \n",
    "print(\"AES key:\", str(secret)[2:-1], \"\\n\")\n",
    "message = secret\n",
    "\n",
    "messageHash = MD5.new(message).digest()\n",
    "\n",
    "signature = keypair.sign(messageHash, '')\n",
    " \n",
    "encryptedMessage = publicKey.encrypt(message, 32)\n",
    "print (\"Encrypted AES key: \", str(encryptedMessage)[3:-3], \"\\n\")\n",
    " \n",
    "decryptedMessage = keypair.decrypt(encryptedMessage)\n",
    " \n",
    "# Signature validation\n",
    "decryptedHash = MD5.new(decryptedMessage).digest()\n",
    "\n",
    "if publicKey.verify(decryptedHash, signature):\n",
    "    print (\"Decrypted AES key:\", str(decryptedMessage)[2:-1], \"\\n\")"
   ]
  },
  {
   "cell_type": "code",
   "execution_count": 5,
   "metadata": {
    "collapsed": false
   },
   "outputs": [
    {
     "name": "stdout",
     "output_type": "stream",
     "text": [
      "Pocetna poruka:  Ovo je moja poruka \n",
      "\n",
      "Sadrzaj omotnice M:\n",
      " (b'fQChJTfDYNt3BE5Szw5m44+C', (b'\\x89|Vj\\x06\\xe7\\xf5\\xf3\\xd6\\x9c\\x88k\\r\\x8f\\x9a\\t\\xf4\\x1eY<t\\xfc\\xbb\\xc4\\x18\\xc3.L\\x8e~\\xf4\\xf2\\xef\\xb4\\xc4\\x97\\x1f\\x12\\xc3v0\\x18(1\\x19^\\x19\\xa0(\\xe8\\xb8v\\xb0\\xb4z\\x14\\xd1\\xa2\\xbbd\\xf8\\xf8r\\xa1\\xf3*Zv\\x9f\\xed\\x87\\x06\\x17hl+<2\\xa7\\x05\\x8d\\xc4_\\xf8\\xbce\\xef\\x19\\x14\\xe3\\x8dU\\xb4\\xe5\\xb2\\xfej\\xba/2\\x91v\\xed\\x14\\xcf3X\\x8bd2\\xe24\\x04\\xad+\\x9diE\\xcc\\x82S\\xf3P\\xba?Ci[',)) \n",
      "\n",
      "Dekriptirana poruka: Ovo je moja poruka\n"
     ]
    }
   ],
   "source": [
    "# DIGITALNA OMOTNICA\n",
    "\n",
    "# KRIPTIRANJE\n",
    "P = \"Ovo je moja poruka\"\n",
    "print(\"Pocetna poruka: \", P, \"\\n\")\n",
    "\n",
    "AES_BLOCK_SIZE = 16\n",
    "\n",
    "secret = os.urandom(AES_BLOCK_SIZE)\n",
    "IV = os.urandom(AES_BLOCK_SIZE)\n",
    "\n",
    "cipher = AES.new(secret, AES.MODE_CFB, IV)\n",
    "\n",
    "C1 = EncodeAES(cipher, P)\n",
    "\n",
    "keypair = RSA.generate(KEY_LENGTH, random_gen)\n",
    "publicKey = keypair.publickey()\n",
    "\n",
    "C2 = publicKey.encrypt(secret, 32)\n",
    "\n",
    "M = (C1, C2)\n",
    "\n",
    "print(\"Sadrzaj omotnice M:\\n\", M, \"\\n\")\n",
    "\n",
    "printEnvelope(C1, C2, 128, 1024)\n",
    "\n",
    "# DEKRIPTIRANJE\n",
    "\n",
    "key = keypair.decrypt(C2)\n",
    "\n",
    "cipher = AES.new(key, AES.MODE_CFB, IV)\n",
    "\n",
    "P = DecodeAES(cipher, C1)\n",
    "print ('Dekriptirana poruka:', P.decode('ascii'))"
   ]
  },
  {
   "cell_type": "code",
   "execution_count": 6,
   "metadata": {
    "collapsed": false
   },
   "outputs": [
    {
     "name": "stdout",
     "output_type": "stream",
     "text": [
      "M =  (b'ovo je poruka', (b\"nq\\\\\\xd5\\xe5\\x80\\xe6\\xff\\x95\\xe1D\\xecI\\xe3\\t\\x1e\\x96'\\n\\x9f\\x17s\\xed\\xe9YM\\x87\\x91\\x97\\xf1\\xe1\\xd9\\x9a\\xadI\\xa6l6\\x9b\\x82L\\xff\\xb5X\\x82\\x17\\xfa^\\x01pG\\x8bc\\xfd\\xe4`\\xb5&C2\\x14\\x7f\\xe1\\xe03\\xec8[\\xa3\\x81\\x93\\xdb\\xe0\\xa6K\\x9c\\x81\\x92]\\x87\\x9fK\\x056\\x8eXe\\xaf2 685\\x1d\\x0c\\x89\\x17\\x9c\\x0c@\\xb2\\xcc\\xc9LC\\xdc\\x1c\\xbavh@\\x07\\xfa\\xde0\\xd7\\xb4f%\\x83\\x1d\\x98h\\xb9\\xc4\\xefK\\xa3\",)) \n",
      "\n",
      "Digest: S\\xf8\\xa01\\xc8\\xe5\\xc3\\x9c\\x93\\xb7?\\xa5\\x11\\x8f(v\\x9ai\\x92\\xd0\n",
      "Hex digest: 53f8a031c8e5c39c93b73fa5118f28769a6992d0\n",
      "Decrypted digest: S\\xf8\\xa01\\xc8\\xe5\\xc3\\x9c\\x93\\xb7?\\xa5\\x11\\x8f(v\\x9ai\\x92\\xd0\n"
     ]
    }
   ],
   "source": [
    "# DIGITALNI POTPIS\n",
    "\n",
    "m = hashlib.sha1()\n",
    "keypair = RSA.generate(KEY_LENGTH, random_gen)\n",
    "publicKey = keypair.publickey()\n",
    "\n",
    "P = \"ovo je poruka\".encode('utf-8')\n",
    "\n",
    "m.update(P)\n",
    "H = m.digest()\n",
    "hexdigest = m.hexdigest()\n",
    "\n",
    "encrypted_digest = publicKey.encrypt(H, 32)\n",
    "\n",
    "M = (P, encrypted_digest)\n",
    "\n",
    "print (\"M = \", M, \"\\n\")\n",
    "\n",
    "decrypted_digest = keypair.decrypt(encrypted_digest)\n",
    "\n",
    "printSignature(hexdigest, 160, 1024)\n",
    "\n",
    "print(\"Digest:\", str(H)[2:-1])\n",
    "print(\"Hex digest:\", hexdigest)\n",
    "print(\"Decrypted digest:\", str(decrypted_digest)[2:-1])"
   ]
  },
  {
   "cell_type": "code",
   "execution_count": 7,
   "metadata": {
    "collapsed": false
   },
   "outputs": [
    {
     "name": "stdout",
     "output_type": "stream",
     "text": [
      "M(C1, C2, C3): (b'9x/PO35rpyUoPxlU6w==', (b\"\\x88\\x01\\xa7\\xea\\xe3G\\x9dh\\xd5-\\xa6\\x02\\n,\\xcc\\xde\\xc3\\x8f\\xf6\\xa9\\xfe\\xd6\\x06\\x03g0\\x93\\xdb\\xb9\\xda<3\\x8c?V0=#WS\\x84\\xb3\\xbb\\xc7\\xcfq\\xd8p\\xe2\\xd5\\xa0tX\\xc3\\x12\\xe7\\xcbE\\x83\\xe9Z\\xf0\\x1cZ\\xdbh\\x99\\xb8\\xfb\\xee\\x0b#\\xf9\\xf9\\x1aa@XO\\xe6\\x16\\xfe#\\x13\\xa5\\xb3\\xa8O>\\xf8\\xc3\\xc4\\xa2r\\xc5\\xc3\\x99U\\x859*y\\xb6\\xf9\\x8bR\\xd8>\\xf7\\xc2\\x91\\x8ae\\x9b0\\xa5\\x86\\x83H\\xb4<\\x1e\\x0e\\x95S'\\x85\\xd6\",), (b'\\x81\\x14\\x9f\\xc0#\\xf8\\xa54\\t\\xfb8\\xf0\\x11\\x9e\\xa3rN\\xc9\\x80\\xf2NqQT\\xf6c\\xad\\xf5\\x9bsc\\xca\\xaa\\xaesx\\x12\\xc1QN\\xcf#j5Sq\\xab\\xe1\\xb4p\\x9c\\xa5\\xc6\\x93*>*^\\x0b\\xf8\\xfc\\xa1\\xe5\\xa5$\\xc3]\\xb6f\\x16\\xfe\\xdd\\x16\\xae<\\xca\\xc6]\\x1814O\\xd7\\xc1\\xe3\\xc9\\x04\\x8f\\xcd>\\xc1;\\x1cN\\xebk\\x0bt\\xe3o\\xd0\\xc9\\x9d\\xe8\\x19o\\xa8\\xde\\xbd\\xe9\\xf3u\\xd7^\\xec\\xc8\\x8b\\x82\\x1b\\xeb\\xfb\\xc34)\\x8f\\xc3\\xcb\\xa8',)) \n",
      "\n",
      "K = \\n\\xc9\\xe5\\xc9\\xd9s\\xf4\\x1a\\xb2\\xd9\\x15I\\xf3\\xecg+\n",
      "P = ovo je poruka\n",
      "S = S\\xf8\\xa01\\xc8\\xe5\\xc3\\x9c\\x93\\xb7?\\xa5\\x11\\x8f(v\\x9ai\\x92\\xd0\n",
      "\n",
      "Primljeni i izracunati sazetak se podudaraju!\n"
     ]
    }
   ],
   "source": [
    "# DIGITALNI PECAT\n",
    "\n",
    "keypair = RSA.generate(KEY_LENGTH, random_gen)\n",
    "publicKey = keypair.publickey()\n",
    "secret = os.urandom(AES_BLOCK_SIZE)\n",
    "IV = os.urandom(16)\n",
    "\n",
    "cipher = AES.new(secret, AES.MODE_CFB, IV)\n",
    "m = hashlib.sha1(P)\n",
    "\n",
    "C1 = EncodeAES(cipher, \"ovo je poruka\")\n",
    "C2 = publicKey.encrypt(secret, 32)\n",
    "C3 = publicKey.encrypt(H, 32)\n",
    "\n",
    "M = (C1, C2, C3)\n",
    "\n",
    "print(\"M(C1, C2, C3):\", M, \"\\n\")\n",
    "\n",
    "K = keypair.decrypt(C2)\n",
    "cipher = AES.new(K, AES.MODE_CFB, IV)\n",
    "P = DecodeAES(cipher, C1)\n",
    "S = keypair.decrypt(C3)\n",
    "\n",
    "print (\"K =\", str(K)[2:-1])\n",
    "print (\"P =\", str(P)[2:-1])\n",
    "print (\"S =\", str(S)[2:-1])\n",
    "\n",
    "m = hashlib.sha1()\n",
    "m.update(P)\n",
    "h = m.digest()\n",
    "\n",
    "if (h == S):\n",
    "    print (\"\\nPrimljeni i izracunati sazetak se podudaraju!\")"
   ]
  },
  {
   "cell_type": "code",
   "execution_count": 8,
   "metadata": {
    "collapsed": false
   },
   "outputs": [],
   "source": [
    "# SHA-1 IMPLEMENTATION\n",
    "\n",
    "\"\"\"\n",
    "Razbija poruke u komade od n bitova.\n",
    "\"\"\"\n",
    "def chunks(array, n):\n",
    "        return [array[i:i+n] for i in range(0, len(array), n)]\n",
    "\n",
    "\"\"\"\n",
    "Rotacija dobivenog niza u lijevo za n bitova.\n",
    "\"\"\"\n",
    "def rotate_left(word, n):\n",
    "    return ((word << n) | (word >> (32 - n))) & 0xffffffff\n",
    "    \n",
    "def sha1(data):\n",
    "    bytes = \"\"\n",
    "    \n",
    "    # INICIJALIZACIJA VARIJABLE\n",
    "    h0 = 0x67452301\n",
    "    h1 = 0xEFCDAB89\n",
    "    h2 = 0x98BADCFE\n",
    "    h3 = 0x10325476\n",
    "    h4 = 0xC3D2E1F0\n",
    "    \n",
    "    # PRED-OBRADA\n",
    "    \n",
    "    # pretvaranje ulaznog stringa u 8-bitni zapis\n",
    "    for n in range(len(data)):\n",
    "        bytes += '{0:08b}'.format(ord(data[n]))\n",
    "    \n",
    "    # dodavanje 1 na kraj poruke\n",
    "    bits = bytes + \"1\"\n",
    "\n",
    "    paddedBits = bits\n",
    "    \n",
    "    # dodavanje k 0 sve dok rezultirajuca poruke bude kongruent 448 (mod 512)\n",
    "    while len(paddedBits) % 512 != 448:\n",
    "        paddedBits += \"0\"\n",
    "        \n",
    "    # dodaj duljinu pocetnog niza kao 64-bitni big-endidan cijeli broj\n",
    "    paddedBits += '{0:064b}'.format(len(bits) - 1)\n",
    "    \n",
    "    # PODJELA NA DIJELOVE I OBRADA\n",
    "    for c in chunks(paddedBits, 512): \n",
    "        words = chunks(c, 32)\n",
    "        w = [0]*80\n",
    "\n",
    "        for n in range(0, 16):\n",
    "            w[n] = int(words[n], 2)\n",
    "            \n",
    "        for i in range(16, 80):\n",
    "            w[i] = rotate_left((w[i-3] ^ w[i-8] ^ w[i-14] ^ w[i-16]), 1)  \n",
    "\n",
    "        a = h0\n",
    "        b = h1\n",
    "        c = h2\n",
    "        d = h3\n",
    "        e = h4\n",
    "\n",
    "        for i in range(0, 80):\n",
    "            if 0 <= i <= 19:\n",
    "                f = (b & c) | ((~b) & d)\n",
    "                k = 0x5A827999\n",
    "            elif 20 <= i <= 39:\n",
    "                f = b ^ c ^ d\n",
    "                k = 0x6ED9EBA1\n",
    "            elif 40 <= i <= 59:\n",
    "                f = (b & c) | (b & d) | (c & d) \n",
    "                k = 0x8F1BBCDC\n",
    "            elif 60 <= i <= 79:\n",
    "                f = b ^ c ^ d\n",
    "                k = 0xCA62C1D6\n",
    "\n",
    "            temp = rotate_left(a, 5) + f + e + k + w[i] & 0xffffffff\n",
    "            \n",
    "            e = d\n",
    "            d = c\n",
    "            c = rotate_left(b, 30)\n",
    "            b = a\n",
    "            a = temp\n",
    "\n",
    "        h0 = h0 + a & 0xffffffff\n",
    "        h1 = h1 + b & 0xffffffff\n",
    "        h2 = h2 + c & 0xffffffff\n",
    "        h3 = h3 + d & 0xffffffff\n",
    "        h4 = h4 + e & 0xffffffff\n",
    "\n",
    "    return '%08x%08x%08x%08x%08x' % (h0, h1, h2, h3, h4)"
   ]
  },
  {
   "cell_type": "code",
   "execution_count": 9,
   "metadata": {
    "collapsed": false
   },
   "outputs": [
    {
     "name": "stdout",
     "output_type": "stream",
     "text": [
      "ee492e99aeb1caf267861a496e4edce6f8409c98\n",
      "ee492e99aeb1caf267861a496e4edce6f8409c98\n"
     ]
    }
   ],
   "source": [
    "m = hashlib.sha1()\n",
    "m.update(\"ovo je test string koji sigurno nije visekratnik 100% definitivno\".encode('utf-8'))\n",
    "print(m.hexdigest())\n",
    "print(sha1(\"ovo je test string koji sigurno nije visekratnik 100% definitivno\"))"
   ]
  },
  {
   "cell_type": "code",
   "execution_count": null,
   "metadata": {
    "collapsed": true
   },
   "outputs": [],
   "source": []
  }
 ],
 "metadata": {
  "anaconda-cloud": {},
  "kernelspec": {
   "display_name": "Python [conda root]",
   "language": "python",
   "name": "conda-root-py"
  },
  "language_info": {
   "codemirror_mode": {
    "name": "ipython",
    "version": 3
   },
   "file_extension": ".py",
   "mimetype": "text/x-python",
   "name": "python",
   "nbconvert_exporter": "python",
   "pygments_lexer": "ipython3",
   "version": "3.5.2"
  }
 },
 "nbformat": 4,
 "nbformat_minor": 2
}
